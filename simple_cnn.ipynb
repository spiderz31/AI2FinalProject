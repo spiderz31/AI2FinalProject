{
 "cells": [
  {
   "cell_type": "code",
   "execution_count": 8,
   "metadata": {
    "collapsed": true
   },
   "outputs": [],
   "source": [
    "import torch\n",
    "from torch.autograd import Variable\n",
    "import torch.nn as nn\n",
    "\n",
    "import torchvision\n",
    "import torchvision.datasets as datasets\n",
    "import torchvision.transforms as transforms\n",
    "import torchvision.models as models\n",
    "\n",
    "import os\n",
    "import numpy as np\n",
    "import pandas as pd\n",
    "from tqdm import tqdm\n",
    "\n",
    "import copy\n",
    "import random\n",
    "\n",
    "import matplotlib\n",
    "import matplotlib.pyplot as plt\n",
    "%matplotlib inline"
   ]
  },
  {
   "cell_type": "code",
   "execution_count": 9,
   "metadata": {
    "collapsed": true
   },
   "outputs": [],
   "source": [
    "train_dir = './train'\n",
    "test_dir = './val_and_test'\n",
    "checkpoint_dir = './checkpoints'\n",
    "result_path = './submission.csv'"
   ]
  },
  {
   "cell_type": "code",
   "execution_count": 10,
   "metadata": {
    "collapsed": true
   },
   "outputs": [],
   "source": [
    "# The \"datasets\" below open your images and preprocess them\n",
    "\n",
    "normalize = transforms.Normalize(mean=[0.485, 0.456, 0.406],\n",
    "                                 std=[0.229, 0.224, 0.225])\n",
    "\n",
    "train_dataset = datasets.ImageFolder(\n",
    "    train_dir,\n",
    "    transforms.Compose([\n",
    "        transforms.RandomHorizontalFlip(),\n",
    "        transforms.RandomVerticalFlip(),\n",
    "        transforms.ToTensor(),\n",
    "        normalize,\n",
    "    ]))\n",
    "\n",
    "test_dataset = datasets.ImageFolder(\n",
    "    test_dir,\n",
    "    transforms.Compose([\n",
    "        transforms.ToTensor(),\n",
    "        normalize,\n",
    "    ]))\n"
   ]
  },
  {
   "cell_type": "code",
   "execution_count": 11,
   "metadata": {
    "collapsed": true
   },
   "outputs": [],
   "source": [
    "# The data loaders below collect your images and put them into batches to feed the neural network \n",
    "train_loader = torch.utils.data.DataLoader(train_dataset, batch_size=40, shuffle=True, num_workers=4)\n",
    "test_loader = torch.utils.data.DataLoader(test_dataset, batch_size=1, shuffle=False, num_workers=4)"
   ]
  },
  {
   "cell_type": "code",
   "execution_count": 12,
   "metadata": {
    "collapsed": true
   },
   "outputs": [],
   "source": [
    "# Define a simple CNN architecture\n",
    "class Simple_CNN(nn.Module):\n",
    "    def __init__(self, num_classes=2):\n",
    "        super(Simple_CNN, self).__init__()\n",
    "        self.features = nn.Sequential(\n",
    "            nn.Conv2d(3, 8, kernel_size=11, stride=4, padding=2),\n",
    "#            nn.ReLU(inplace=True),\n",
    "            nn.LeakyReLU(negative_slope=0.01, inplace=True),\n",
    "            nn.MaxPool2d(kernel_size=3, stride=2),\n",
    "            \n",
    "            nn.Conv2d(8, 8, kernel_size=3, padding=2),\n",
    "#            nn.ReLU(inplace=True),\n",
    "            nn.LeakyReLU(negative_slope=0.01, inplace=True),\n",
    "            nn.MaxPool2d(kernel_size=3, stride=2),\n",
    "\n",
    "            #additional layer\n",
    "#            nn.Conv2d(8, 8, kernel_size=3, padding=2),\n",
    "#            nn.ReLU(inplace=True),\n",
    "#            nn.LeakyReLU(negative_slope=0.01, inplace=True),\n",
    "#            nn.MaxPool2d(kernel_size=3, stride=2),\n",
    "            \n",
    "            nn.Conv2d(8, 16, kernel_size=3, padding=1),\n",
    "#            nn.ReLU(inplace=True),\n",
    "            nn.LeakyReLU(negative_slope=0.01, inplace=True),\n",
    "            nn.MaxPool2d(kernel_size=3, stride=2),\n",
    "            \n",
    "#             nn.Conv2d(16, 16, kernel_size=3, padding=1),\n",
    "#             nn.ReLU(inplace=True),\n",
    "        )\n",
    "        self.avgpool = nn.AdaptiveAvgPool2d(1)\n",
    "        self.maxpool = nn.AdaptiveMaxPool2d(1)\n",
    "        self.classifier = nn.Sequential(\n",
    "            nn.Linear(16, 16),\n",
    "#            nn.ReLU(inplace=True),\n",
    "            nn.LeakyReLU(negative_slope=0.01, inplace=True),\n",
    "            nn.Linear(16, 16),\n",
    "#            nn.ReLU(inplace=True),\n",
    "            nn.LeakyReLU(negative_slope=0.01,inplace=True),\n",
    "            nn.Linear(16, num_classes),\n",
    "        )\n",
    "    def forward(self, x):\n",
    "        x = self.features(x)\n",
    "        x = self.avgpool(x)\n",
    "#        x = self.maxpool(x)\n",
    "        x = x.view(x.size(0), -1)\n",
    "        x = self.classifier(x)\n",
    "        return x"
   ]
  },
  {
   "cell_type": "code",
   "execution_count": 15,
   "metadata": {
    "collapsed": true
   },
   "outputs": [],
   "source": [
    "# Use cross-entropy loss\n",
    "criterion = nn.CrossEntropyLoss()"
   ]
  },
  {
   "cell_type": "code",
   "execution_count": 16,
   "metadata": {
    "collapsed": true
   },
   "outputs": [],
   "source": [
    "def get_accuracy(output, target):\n",
    "    \"\"\"Computes the precision@k for the specified values of k\"\"\"\n",
    "    batch_size = target.size(0)\n",
    "\n",
    "    _, pred = output.topk(1, 1, True, True)\n",
    "    pred = pred.t()\n",
    "    correct = pred.eq(target.view(1, -1).expand_as(pred))\n",
    "    correct_k = correct[0].view(-1).float().sum(0, keepdim=True)\n",
    "\n",
    "    return correct_k.mul_(1.0 / batch_size).data[0]"
   ]
  },
  {
   "cell_type": "code",
   "execution_count": 17,
   "metadata": {
    "collapsed": true
   },
   "outputs": [],
   "source": [
    "class AverageMeter(object):\n",
    "    \"\"\"Computes and stores the average and current value\"\"\"\n",
    "    def __init__(self):\n",
    "        self.reset()\n",
    "\n",
    "    def reset(self):\n",
    "        self.val = 0\n",
    "        self.avg = 0\n",
    "        self.sum = 0\n",
    "        self.count = 0\n",
    "\n",
    "    def update(self, val, n=1):\n",
    "        self.val = val\n",
    "        self.sum += val * n\n",
    "        self.count += n\n",
    "        self.avg = self.sum / self.count"
   ]
  },
  {
   "cell_type": "code",
   "execution_count": null,
   "metadata": {
    "collapsed": true
   },
   "outputs": [],
   "source": []
  },
  {
   "cell_type": "code",
   "execution_count": 18,
   "metadata": {
    "collapsed": true
   },
   "outputs": [],
   "source": [
    "def train(model, data_loader, criterion, optimizer, val_num):\n",
    "    loss_recorder = AverageMeter() # record the loss of each batch to get the overall loss\n",
    "    accuracy_recorder = AverageMeter() # record the accuracy of each batch to get the overall accuracy\n",
    "    \n",
    "    model.train() # switch to train mode\n",
    "    for i, (input, target) in enumerate(data_loader):\n",
    "        if i != val_num:\n",
    "            input, target = Variable(input), Variable(target)\n",
    "            output = model(input)\n",
    "            loss = criterion(output, target)\n",
    "\n",
    "            optimizer.zero_grad() # clear the gradients computed before\n",
    "            loss.backward() # compute the gradients using backward propagation\n",
    "            optimizer.step() # update the parameters of the network\n",
    "\n",
    "            accuracy = get_accuracy(output, target)\n",
    "            loss = loss.cpu().data[0] # convert from pytorch variable to a python float number\n",
    "            print('Batch {}:\\tloss: {:.05f}\\t accuracy: {:.05f}'.format(i+1, loss, accuracy))\n",
    "            loss_recorder.update(loss, input.size(0))\n",
    "            accuracy_recorder.update(accuracy, input.size(0))\n",
    "    return loss_recorder.avg, accuracy_recorder.avg"
   ]
  },
  {
   "cell_type": "code",
   "execution_count": 19,
   "metadata": {
    "collapsed": true
   },
   "outputs": [],
   "source": [
    "def validate(model, data_loader, criterion, val_num):\n",
    "    \n",
    "    loss_recorder = AverageMeter() # record the loss of each batch to get the overall loss\n",
    "    accuracy_recorder = AverageMeter() # record the accuracy of each batch to get the overall accuracy\n",
    "    model.eval() # switch to evaluation mode\n",
    "    for i, (input, target) in enumerate(data_loader):\n",
    "        if i==val_num:\n",
    "            input, target = Variable(input, volatile=True), Variable(target)\n",
    "            output = model(input)\n",
    "            loss = criterion(output, target)\n",
    "            accuracy = get_accuracy(output, target)\n",
    "            loss = loss.cpu().data[0] # convert from pytorch variable to a python float number\n",
    "            print('Batch {}:\\tloss: {:.05f}\\t accuracy: {:.05f}'.format(i+1, loss, accuracy))\n",
    "            loss_recorder.update(loss, input.size(0))\n",
    "            accuracy_recorder.update(accuracy, input.size(0))\n",
    "    return loss_recorder.avg, accuracy_recorder.avg"
   ]
  },
  {
   "cell_type": "code",
   "execution_count": 20,
   "metadata": {
    "collapsed": true
   },
   "outputs": [],
   "source": [
    "def save_checkpoint(state, filename):\n",
    "    torch.save(state, filename)\n",
    "    print('A checkpoint was saved to {}'.format(filename))"
   ]
  },
  {
   "cell_type": "code",
   "execution_count": 21,
   "metadata": {
    "collapsed": true
   },
   "outputs": [],
   "source": [
    "def pltLoss(train, val, num_epochs):\n",
    "    plt.figure()\n",
    "    plt.plot(np.arange(num_epochs)+1, train)\n",
    "    plt.plot(np.arange(num_epochs)+1, val)\n",
    "    plt.xlabel('epoch')\n",
    "    plt.ylabel('loss')\n",
    "    plt.legend(['train', 'val'])\n",
    "    plt.pause(0.05)"
   ]
  },
  {
   "cell_type": "code",
   "execution_count": 22,
   "metadata": {
    "collapsed": true
   },
   "outputs": [],
   "source": [
    "def pltAcc(train, val, num_epochs):\n",
    "    plt.figure()\n",
    "    plt.plot(np.arange(num_epochs)+1, train)\n",
    "    plt.plot(np.arange(num_epochs)+1, val)\n",
    "    plt.xlabel('epoch')\n",
    "    plt.ylabel('accuracy')\n",
    "    plt.legend(['train', 'val'])\n",
    "    plt.pause(0.05)"
   ]
  },
  {
   "cell_type": "code",
   "execution_count": 23,
   "metadata": {
    "collapsed": true
   },
   "outputs": [],
   "source": [
    "def getResNetModel():\n",
    "    model_conv=torchvision.models.resnet50(pretrained=True)\n",
    "    ## Change the last layer\n",
    "    num_ftrs = model_conv.fc.in_features\n",
    "    model_conv.fc = nn.Linear(num_ftrs, 2)\n",
    "    ## Freezing all layers\n",
    "    for params in model_conv.parameters():\n",
    "        params.requires_grad = False\n",
    "    return model_conv\n",
    "\n",
    "\n",
    "def getResNetModelFineTuning():\n",
    "    model_conv=torchvision.models.resnet50(pretrained=True)\n",
    "    ## Change the last layer\n",
    "    num_ftrs = model_conv.fc.in_features\n",
    "    model_conv.fc = nn.Linear(num_ftrs, 2)\n",
    "    ## Freezing all layers\n",
    "    for params in model_conv.parameters():\n",
    "        params.requires_grad = False\n",
    "    return model_conv\n",
    "\n",
    "    ## Freezing the first few layers. Here I am freezing the first 7 layers \n",
    "    ct = 0\n",
    "    for name, child in model_conv.named_children():\n",
    "        ct += 1\n",
    "        if ct < 7:\n",
    "            for name2, params in child.named_parameters():\n",
    "                params.requires_grad = False\n",
    "\n",
    "def getVGGModel():\n",
    "    \n",
    "    model_conv = torchvision.models.vgg19(pretrained=True)\n",
    "\n",
    "    # Number of filters in the bottleneck layer\n",
    "    num_ftrs = model_conv.classifier[6].in_features\n",
    "    # convert all the layers to list and remove the last one\n",
    "    features = list(model_conv.classifier.children())[:-1]\n",
    "    ## Add the last layer based on the num of classes in our dataset\n",
    "    features.extend([nn.Linear(num_ftrs, 2)])\n",
    "    ## convert it into container and add it to our model class.\n",
    "    model_conv.classifier = nn.Sequential(*features)  \n",
    "\n",
    "    return model_conv"
   ]
  },
  {
   "cell_type": "code",
   "execution_count": 24,
   "metadata": {},
   "outputs": [],
   "source": [
    "def initModel(modelID):\n",
    "    if modelID==1:\n",
    "        model=Simple_CNN()\n",
    "    elif modelID==2:\n",
    "        model=getResNetModel()\n",
    "    elif modelID==3:\n",
    "        model=getResNetModelFineTuning()\n",
    "    else:\n",
    "        model=getVGGModel()\n",
    "    train_losses = []\n",
    "    train_accuracies = []\n",
    "    val_losses = []\n",
    "    val_accuracies = []\n",
    "    return model, train_losses, train_accuracies, val_losses, val_accuracies"
   ]
  },
  {
   "cell_type": "code",
   "execution_count": 29,
   "metadata": {
    "collapsed": true
   },
   "outputs": [],
   "source": [
    "def epochsModel(model, val, maxAcc, train_losses, train_accuracies, val_losses, val_accuracies, mdlID):\n",
    "    print('---- train ----')\n",
    "    train_loss, train_accuracy = train(model, train_loader, criterion, optimizer, val)\n",
    "    print('Avg Loss: {:.05f}\\tAvg Accuracy: {:.05f}'.format(train_loss, train_accuracy))\n",
    "    train_losses.append(train_loss)\n",
    "    train_accuracies.append(train_accuracy)\n",
    "\n",
    "    print('-- validate --')\n",
    "    val_loss, val_accuracy = validate(model, train_loader, criterion, val)\n",
    "    val_losses.append(val_loss)\n",
    "    val_accuracies.append(val_accuracy)\n",
    "\n",
    "    save_checkpoint(model.state_dict(), checkpoint_dir+'/checkpoint{}_epoch{}.pk'.format(mdlID,epoch))\n",
    "    if val_accuracy > maxAcc:\n",
    "        bstMdl=copy.deepcopy(model.state_dict())\n",
    "        maxAcc=val_accuracy\n",
    "        valNum=val\n",
    "    elif val_accuracy == maxAcc:\n",
    "        n=random.randrange(1,2)\n",
    "        if n==2:\n",
    "            bstMdl=copy.deepcopy(model.state_dict())\n",
    "            maxAcc=val_accuracy\n",
    "            valNum=val\n",
    "    return model, train_losses, train_accuracies, val_losses, val_accuracies, bstMdl"
   ]
  },
  {
   "cell_type": "code",
   "execution_count": null,
   "metadata": {
    "scrolled": false
   },
   "outputs": [
    {
     "name": "stdout",
     "output_type": "stream",
     "text": [
      "Validation 1\n",
      "\n",
      "Epoch 1\n",
      "---- train ----\n",
      "Batch 2:\tloss: 0.68848\t accuracy: 0.55000\n",
      "Batch 3:\tloss: 0.69256\t accuracy: 0.52500\n",
      "Batch 4:\tloss: 0.70459\t accuracy: 0.45000\n",
      "Batch 5:\tloss: 0.68828\t accuracy: 0.55000\n",
      "Avg Loss: 0.69348\tAvg Accuracy: 0.51875\n",
      "-- validate --\n",
      "Batch 1:\tloss: 0.69236\t accuracy: 0.52500\n",
      "A checkpoint was saved to ./checkpoints/checkpoint1_epoch1.pk\n",
      "\n",
      "Epoch 2\n",
      "---- train ----\n",
      "Batch 2:\tloss: 0.69232\t accuracy: 0.52500\n",
      "Batch 3:\tloss: 0.67663\t accuracy: 0.62500\n",
      "Batch 4:\tloss: 0.70771\t accuracy: 0.42500\n",
      "Batch 5:\tloss: 0.69594\t accuracy: 0.50000\n",
      "Avg Loss: 0.69315\tAvg Accuracy: 0.51875\n",
      "-- validate --\n",
      "Batch 1:\tloss: 0.68386\t accuracy: 0.57500\n",
      "A checkpoint was saved to ./checkpoints/checkpoint1_epoch2.pk\n"
     ]
    },
    {
     "data": {
      "image/png": "[encoded data removed]",
      "text/plain": [
       "<matplotlib.figure.Figure at 0x1f623b39710>"
      ]
     },
     "metadata": {},
     "output_type": "display_data"
    },
    {
     "data": {
      "image/png": "[encoded data removed]",
      "text/plain": [
       "<matplotlib.figure.Figure at 0x1f623b7e908>"
      ]
     },
     "metadata": {},
     "output_type": "display_data"
    },
    {
     "name": "stdout",
     "output_type": "stream",
     "text": [
      "Validation 2\n",
      "\n",
      "Epoch 1\n",
      "---- train ----\n",
      "Batch 1:\tloss: 0.67997\t accuracy: 0.60000\n",
      "Batch 3:\tloss: 0.68315\t accuracy: 0.57500\n",
      "Batch 4:\tloss: 0.70873\t accuracy: 0.42500\n",
      "Batch 5:\tloss: 0.67986\t accuracy: 0.60000\n",
      "Avg Loss: 0.68793\tAvg Accuracy: 0.55000\n",
      "-- validate --\n",
      "Batch 2:\tloss: 0.68858\t accuracy: 0.55000\n",
      "A checkpoint was saved to ./checkpoints/checkpoint1_epoch1.pk\n",
      "\n",
      "Epoch 2\n",
      "---- train ----\n",
      "Batch 1:\tloss: 0.68657\t accuracy: 0.55000\n",
      "Batch 3:\tloss: 0.71497\t accuracy: 0.40000\n",
      "Batch 4:\tloss: 0.66764\t accuracy: 0.65000\n",
      "Batch 5:\tloss: 0.69905\t accuracy: 0.47500\n",
      "Avg Loss: 0.69206\tAvg Accuracy: 0.51875\n",
      "-- validate --\n",
      "Batch 2:\tloss: 0.70656\t accuracy: 0.42500\n",
      "A checkpoint was saved to ./checkpoints/checkpoint1_epoch2.pk\n"
     ]
    },
    {
     "data": {
      "image/png": "[encoded data removed]",
      "text/plain": [
       "<matplotlib.figure.Figure at 0x1f6228d3f98>"
      ]
     },
     "metadata": {},
     "output_type": "display_data"
    },
    {
     "data": {
      "image/png": "[encoded data removed]",
      "text/plain": [
       "<matplotlib.figure.Figure at 0x1f62290d5c0>"
      ]
     },
     "metadata": {},
     "output_type": "display_data"
    },
    {
     "name": "stdout",
     "output_type": "stream",
     "text": [
      "Validation 3\n",
      "\n",
      "Epoch 1\n",
      "---- train ----\n",
      "Batch 1:\tloss: 0.69651\t accuracy: 0.32500\n",
      "Batch 2:\tloss: 0.69314\t accuracy: 0.50000\n",
      "Batch 4:\tloss: 0.69205\t accuracy: 0.65000\n",
      "Batch 5:\tloss: 0.69244\t accuracy: 0.65000\n",
      "Avg Loss: 0.69354\tAvg Accuracy: 0.53125\n",
      "-- validate --\n",
      "Batch 3:\tloss: 0.69248\t accuracy: 0.57500\n",
      "A checkpoint was saved to ./checkpoints/checkpoint1_epoch1.pk\n",
      "\n",
      "Epoch 2\n",
      "---- train ----\n",
      "Batch 1:\tloss: 0.69292\t accuracy: 0.62500\n",
      "Batch 2:\tloss: 0.69248\t accuracy: 0.62500\n",
      "Batch 4:\tloss: 0.69122\t accuracy: 0.75000\n",
      "Batch 5:\tloss: 0.69214\t accuracy: 0.55000\n",
      "Avg Loss: 0.69219\tAvg Accuracy: 0.63750\n",
      "-- validate --\n",
      "Batch 3:\tloss: 0.69178\t accuracy: 0.65000\n",
      "A checkpoint was saved to ./checkpoints/checkpoint1_epoch2.pk\n"
     ]
    },
    {
     "data": {
      "image/png": "[encoded data removed]",
      "text/plain": [
       "<matplotlib.figure.Figure at 0x1f62283e208>"
      ]
     },
     "metadata": {},
     "output_type": "display_data"
    },
    {
     "data": {
      "image/png": "[encoded data removed]",
      "text/plain": [
       "<matplotlib.figure.Figure at 0x1f623de0c88>"
      ]
     },
     "metadata": {},
     "output_type": "display_data"
    },
    {
     "name": "stdout",
     "output_type": "stream",
     "text": [
      "Validation 4\n",
      "\n",
      "Epoch 1\n",
      "---- train ----\n",
      "Batch 1:\tloss: 0.70305\t accuracy: 0.40000\n",
      "Batch 2:\tloss: 0.68685\t accuracy: 0.57500\n",
      "Batch 3:\tloss: 0.69381\t accuracy: 0.50000\n",
      "Batch 5:\tloss: 0.69790\t accuracy: 0.42500\n",
      "Avg Loss: 0.69540\tAvg Accuracy: 0.47500\n",
      "-- validate --\n",
      "Batch 4:\tloss: 0.68685\t accuracy: 0.57500\n",
      "A checkpoint was saved to ./checkpoints/checkpoint1_epoch1.pk\n",
      "\n",
      "Epoch 2\n",
      "---- train ----\n"
     ]
    }
   ],
   "source": [
    "num_epochs=2\n",
    "valNum=5\n",
    "bestModels=[]\n",
    "for mdl in range(1,4):\n",
    "    for val in range(0,valNum):\n",
    "        model, trn_loss, trn_acc, val_loss, val_acc=initModel(mdl)\n",
    "        # Create a ADAM optimizer\n",
    "        optimizer = torch.optim.Adam(model.parameters(), lr=1e-3)\n",
    "        maxAcc=0.0\n",
    "        print('Validation {}'.format(val+1))\n",
    "        for epoch in range(1, num_epochs+1):\n",
    "            print('\\nEpoch', epoch)\n",
    "            model,trn_loss,trn_acc,val_loss,val_acc,bstMdl=epochsModel(model,val,maxAcc,trn_loss,trn_acc,val_loss,val_acc,mdl)\n",
    "        pltLoss(trn_loss, val_loss, num_epochs)\n",
    "        pltAcc(trn_acc, val_acc, num_epochs)\n",
    "        bestModels.append(bstMdl)"
   ]
  },
  {
   "cell_type": "code",
   "execution_count": 24,
   "metadata": {},
   "outputs": [
    {
     "name": "stdout",
     "output_type": "stream",
     "text": [
      "0.48125000298023224\n"
     ]
    }
   ],
   "source": [
    "print(train_accuracy)"
   ]
  },
  {
   "cell_type": "markdown",
   "metadata": {},
   "source": [
    "Choose a model that you like best"
   ]
  },
  {
   "cell_type": "code",
   "execution_count": 170,
   "metadata": {
    "collapsed": true
   },
   "outputs": [],
   "source": [
    "prefered_checkpoint = 'C:/Users/showe/Documents/masters/SP18/CS8750/Project/code/data/checkpoints/checkpoint_epoch50.pk'\n",
    "model.load_state_dict(torch.load(prefered_checkpoint))"
   ]
  },
  {
   "cell_type": "markdown",
   "metadata": {},
   "source": [
    "Let your AI automatically recognize if there are birds in each images in test set"
   ]
  },
  {
   "cell_type": "code",
   "execution_count": 171,
   "metadata": {},
   "outputs": [
    {
     "name": "stderr",
     "output_type": "stream",
     "text": [
      "100%|████████████████████████████████████████████████████████████████████████████████| 200/200 [00:04<00:00, 49.16it/s]\n"
     ]
    }
   ],
   "source": [
    "images = []\n",
    "preds = []\n",
    "model.eval()\n",
    "for i, (input, target) in enumerate(tqdm(test_loader)):\n",
    "    input, target = Variable(input, volatile=True), Variable(target)\n",
    "    output = bstmdl(input)\n",
    "    confidence = nn.functional.softmax(output, dim=1)\n",
    "    confidence = confidence.cpu().data[0].numpy()\n",
    "    if confidence[0] >= 0.5: # If the network predicts that the image contains a bird\n",
    "        pred = 1\n",
    "    else:\n",
    "        pred = 0\n",
    "    preds.append(pred)\n",
    "    \n",
    "    # Get the file name of the current image\n",
    "    image = test_dataset.imgs[i]\n",
    "    image = os.path.basename(image[0])\n",
    "    images.append(image)\n",
    "submission = pd.DataFrame({'image': images, 'has_bird': preds}, columns=['image', 'has_bird'])"
   ]
  },
  {
   "cell_type": "markdown",
   "metadata": {},
   "source": [
    "Take a look at the first rows of the result."
   ]
  },
  {
   "cell_type": "code",
   "execution_count": 172,
   "metadata": {},
   "outputs": [
    {
     "data": {
      "text/html": [
       "<div>\n",
       "<style>\n",
       "    .dataframe thead tr:only-child th {\n",
       "        text-align: right;\n",
       "    }\n",
       "\n",
       "    .dataframe thead th {\n",
       "        text-align: left;\n",
       "    }\n",
       "\n",
       "    .dataframe tbody tr th {\n",
       "        vertical-align: top;\n",
       "    }\n",
       "</style>\n",
       "<table border=\"1\" class=\"dataframe\">\n",
       "  <thead>\n",
       "    <tr style=\"text-align: right;\">\n",
       "      <th></th>\n",
       "      <th>image</th>\n",
       "      <th>has_bird</th>\n",
       "    </tr>\n",
       "  </thead>\n",
       "  <tbody>\n",
       "    <tr>\n",
       "      <th>0</th>\n",
       "      <td>0000.JPG</td>\n",
       "      <td>1</td>\n",
       "    </tr>\n",
       "    <tr>\n",
       "      <th>1</th>\n",
       "      <td>0001.JPG</td>\n",
       "      <td>0</td>\n",
       "    </tr>\n",
       "    <tr>\n",
       "      <th>2</th>\n",
       "      <td>0002.JPG</td>\n",
       "      <td>1</td>\n",
       "    </tr>\n",
       "    <tr>\n",
       "      <th>3</th>\n",
       "      <td>0003.JPG</td>\n",
       "      <td>0</td>\n",
       "    </tr>\n",
       "    <tr>\n",
       "      <th>4</th>\n",
       "      <td>0004.JPG</td>\n",
       "      <td>0</td>\n",
       "    </tr>\n",
       "  </tbody>\n",
       "</table>\n",
       "</div>"
      ],
      "text/plain": [
       "      image  has_bird\n",
       "0  0000.JPG         1\n",
       "1  0001.JPG         0\n",
       "2  0002.JPG         1\n",
       "3  0003.JPG         0\n",
       "4  0004.JPG         0"
      ]
     },
     "execution_count": 172,
     "metadata": {},
     "output_type": "execute_result"
    }
   ],
   "source": [
    "submission.head()"
   ]
  },
  {
   "cell_type": "code",
   "execution_count": 173,
   "metadata": {
    "collapsed": true
   },
   "outputs": [],
   "source": [
    "submission.to_csv(result_path, index=False)"
   ]
  },
  {
   "cell_type": "code",
   "execution_count": null,
   "metadata": {
    "collapsed": true
   },
   "outputs": [],
   "source": []
  }
 ],
 "metadata": {
  "kernelspec": {
   "display_name": "Python [default]",
   "language": "python",
   "name": "python3"
  },
  "language_info": {
   "codemirror_mode": {
    "name": "ipython",
    "version": 3
   },
   "file_extension": ".py",
   "mimetype": "text/x-python",
   "name": "python",
   "nbconvert_exporter": "python",
   "pygments_lexer": "ipython3",
   "version": "3.6.4"
  }
 },
 "nbformat": 4,
 "nbformat_minor": 2
}
